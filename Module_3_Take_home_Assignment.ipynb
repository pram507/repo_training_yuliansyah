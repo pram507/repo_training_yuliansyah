{
  "nbformat": 4,
  "nbformat_minor": 0,
  "metadata": {
    "colab": {
      "private_outputs": true,
      "provenance": [],
      "include_colab_link": true
    },
    "kernelspec": {
      "name": "python3",
      "display_name": "Python 3"
    },
    "language_info": {
      "name": "python"
    }
  },
  "cells": [
    {
      "cell_type": "markdown",
      "metadata": {
        "id": "view-in-github",
        "colab_type": "text"
      },
      "source": [
        "<a href=\"https://colab.research.google.com/github/f4dleep/repo_training_ds_revou/blob/main/Module_3_Take_home_Assignment_Template.ipynb\" target=\"_parent\"><img src=\"https://colab.research.google.com/assets/colab-badge.svg\" alt=\"Open In Colab\"/></a>"
      ]
    },
    {
      "cell_type": "markdown",
      "source": [
        "# Import Packages"
      ],
      "metadata": {
        "id": "XfYwSIvKvWQ8"
      }
    },
    {
      "cell_type": "code",
      "source": [
        "#connect google drive , agar tersimpan di google drive saya\n",
        "from google.colab import drive\n",
        "drive.mount('/content/drive')"
      ],
      "metadata": {
        "id": "XIUY2fvYQ1uZ"
      },
      "execution_count": null,
      "outputs": []
    },
    {
      "cell_type": "code",
      "source": [
        "dict_data_url = {\"/content/drive/MyDrive/Colab Notebooks/Day 5 - revou hervind module 3.3/telecom_account.csv\" : \"https://drive.google.com/file/d/1hOLOXCnLtEVx56yth4ePcUdb_X038_Qd/view?usp=drive_link\",\n",
        "                 \"/content/drive/MyDrive/Colab Notebooks/Day 5 - revou hervind module 3.3/telecom_usage.csv\" : \"https://drive.google.com/file/d/1JMrMNFaflQR0NhCXR3-u7ueA7TdNTJki/view?usp=drive_link\" }"
      ],
      "metadata": {
        "id": "NdKy-QGRRK-7"
      },
      "execution_count": null,
      "outputs": []
    },
    {
      "cell_type": "code",
      "source": [
        "import gdown\n",
        "import pandas as pd"
      ],
      "metadata": {
        "id": "av1nJAoPtI-4"
      },
      "execution_count": null,
      "outputs": []
    },
    {
      "cell_type": "markdown",
      "source": [
        "# Download Data"
      ],
      "metadata": {
        "id": "lnlnpGTUvUsQ"
      }
    },
    {
      "cell_type": "code",
      "execution_count": null,
      "metadata": {
        "id": "2J8FJ-M0s7c6"
      },
      "outputs": [],
      "source": [
        "for file_name, gdrive_url in dict_data_url.items():\n",
        "  gdown.download(gdrive_url, file_name, fuzzy=True)\n"
      ]
    },
    {
      "cell_type": "code",
      "source": [],
      "metadata": {
        "id": "IMoIgZPutIio"
      },
      "execution_count": null,
      "outputs": []
    },
    {
      "cell_type": "markdown",
      "source": [
        "# Load Data"
      ],
      "metadata": {
        "id": "L9s_-pAKvYb6"
      }
    },
    {
      "cell_type": "code",
      "source": [
        "df_account=pd.read_csv('/content/drive/MyDrive/Colab Notebooks/Day 5 - revou hervind module 3.3/telecom_account.csv')\n",
        "df_usage=pd.read_csv('/content/drive/MyDrive/Colab Notebooks/Day 5 - revou hervind module 3.3/telecom_usage.csv')"
      ],
      "metadata": {
        "id": "P3lcWWvXtm_1"
      },
      "execution_count": null,
      "outputs": []
    },
    {
      "cell_type": "code",
      "source": [
        "df_account.head()"
      ],
      "metadata": {
        "id": "9DO-s4gLtoSL"
      },
      "execution_count": null,
      "outputs": []
    },
    {
      "cell_type": "code",
      "source": [
        "df_usage.head()"
      ],
      "metadata": {
        "id": "iuKomhfHxWJQ"
      },
      "execution_count": null,
      "outputs": []
    },
    {
      "cell_type": "markdown",
      "source": [
        "# Cleaning Customer Gender"
      ],
      "metadata": {
        "id": "Vz10RzvQvaT8"
      }
    },
    {
      "cell_type": "code",
      "source": [
        "df_account['customer_gender'].value_counts()"
      ],
      "metadata": {
        "id": "-p_7MCuhtpi5"
      },
      "execution_count": null,
      "outputs": []
    },
    {
      "cell_type": "code",
      "source": [
        "df_account['customer_gender'] = df_account['customer_gender'].fillna('u')  # Fill null values with 'u'\n",
        "df_account['customer_gender'] = df_account['customer_gender'].apply(lambda x: x.lower() if isinstance(x, str) else x)  # Convert to lowercase\n",
        "df_account['customer_gender'] = df_account['customer_gender'].apply(lambda x: x if x in ['m', 'f', 'u'] else 'u')  # Replace"
      ],
      "metadata": {
        "id": "XseJO5P_vkL_"
      },
      "execution_count": null,
      "outputs": []
    },
    {
      "cell_type": "code",
      "source": [
        "df_account['customer_gender'].value_counts()"
      ],
      "metadata": {
        "id": "fx8t3HORwY8E"
      },
      "execution_count": null,
      "outputs": []
    },
    {
      "cell_type": "markdown",
      "source": [
        "# RFM Exploration"
      ],
      "metadata": {
        "id": "J86IhLHExAsL"
      }
    },
    {
      "cell_type": "code",
      "source": [
        "df_usage.groupby('rfm_score').agg({'mb_data_usg_m01' : ['mean', 'max'],'avg_arpu_3m' : ['mean'],'lifetime_value' : ['mean']})"
      ],
      "metadata": {
        "id": "DN4STEk1wkib"
      },
      "execution_count": null,
      "outputs": []
    },
    {
      "cell_type": "code",
      "source": [
        "df_rfm=df_usage.groupby('rfm_score').agg({'mb_data_usg_m01' : ['mean', 'max'],'avg_arpu_3m' : ['mean'],'lifetime_value' : ['mean']})"
      ],
      "metadata": {
        "id": "gpcHKG-yl0id"
      },
      "execution_count": null,
      "outputs": []
    },
    {
      "cell_type": "code",
      "source": [
        "df_rfm.loc[[111,112,113,121,122,123]]"
      ],
      "metadata": {
        "id": "ucq0PVNxl30M"
      },
      "execution_count": null,
      "outputs": []
    },
    {
      "cell_type": "markdown",
      "source": [
        "# Merge Table"
      ],
      "metadata": {
        "id": "-qOT8hARyglf"
      }
    },
    {
      "cell_type": "code",
      "source": [
        "df_account.merge(df_usage, on = 'Customer_ID').head()"
      ],
      "metadata": {
        "id": "ViV4THte0Jqc"
      },
      "execution_count": null,
      "outputs": []
    },
    {
      "cell_type": "code",
      "source": [
        "df_join=df_account.merge(df_usage, on = 'Customer_ID')"
      ],
      "metadata": {
        "id": "MsTj_LQ5nF2z"
      },
      "execution_count": null,
      "outputs": []
    },
    {
      "cell_type": "code",
      "source": [
        "df_join=df_join[['Customer_ID','customer_gender','region','mb_data_usg_m01','avg_arpu_3m','lifetime_value']]"
      ],
      "metadata": {
        "id": "UgQCGlJY0O6N"
      },
      "execution_count": null,
      "outputs": []
    },
    {
      "cell_type": "code",
      "source": [
        "df_join.loc[df_join['Customer_ID'].isin([84690,3998832,3999066])]"
      ],
      "metadata": {
        "id": "-aPEyZUZ1Gvb"
      },
      "execution_count": null,
      "outputs": []
    },
    {
      "cell_type": "code",
      "source": [],
      "metadata": {
        "id": "1D2Ox7OhoHG8"
      },
      "execution_count": null,
      "outputs": []
    }
  ]
}